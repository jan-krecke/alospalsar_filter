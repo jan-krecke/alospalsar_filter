{
 "cells": [
  {
   "cell_type": "code",
   "execution_count": 1,
   "id": "f1b0cb5b",
   "metadata": {},
   "outputs": [],
   "source": [
    "from pathlib import Path\n",
    "\n",
    "import matplotlib.pyplot as plt\n",
    "from mpl_toolkits.axes_grid1 import make_axes_locatable\n",
    "import matplotlib.patches as patches\n",
    "import numpy as np\n",
    "from scipy.signal import windows\n",
    "\n",
    "import utils"
   ]
  },
  {
   "cell_type": "markdown",
   "id": "23f8676b",
   "metadata": {},
   "source": [
    "# Applying a Hann-Window to ALOS-PALSAR L1.1 Data"
   ]
  },
  {
   "cell_type": "markdown",
   "id": "a0339e01",
   "metadata": {},
   "source": [
    "The purpose of this notebook is to visualize a single-look complex (SLC) SAR dataset collected by ALOS PALSAR. In addition, the dataset will be filtered in the frequency domain using a Hann-window.\n",
    "\n",
    "The PALSAR product used for this analysis is *ALPSRP139670660*. It can be downloaded using the [ASF Vertex](https://search.asf.alaska.edu/#/) tool."
   ]
  },
  {
   "cell_type": "markdown",
   "id": "d18d69e8",
   "metadata": {},
   "source": [
    "## 1. Read the complex SLC data"
   ]
  },
  {
   "cell_type": "markdown",
   "id": "ef61b39d",
   "metadata": {},
   "source": [
    "First, the dataset has to be read into a Numpy-array. To do that, I use a code snipped provided to me (imported here from `utils.py` as `read_alospalsar_image`). The path specified in `product_path` has to be changed according to where the product is."
   ]
  },
  {
   "cell_type": "code",
   "execution_count": 2,
   "id": "1f91dc1a",
   "metadata": {},
   "outputs": [],
   "source": [
    "product_path = Path(\n",
    "    \"/home/debian/data_share/alos_palsar/ALPSRP139670660-H1.1__A\"\n",
    ")  # noqa\n",
    "fname = \"IMG-HH-ALPSRP139670660-H1.1__A\"\n",
    "\n",
    "slc = utils.read_alospalsar_image(product_path / fname)\n",
    "n_lines = slc.shape[0]\n",
    "n_pixels = slc.shape[1]"
   ]
  },
  {
   "cell_type": "markdown",
   "id": "a39b2d06",
   "metadata": {},
   "source": [
    "# 2. Create an overview image"
   ]
  },
  {
   "cell_type": "markdown",
   "id": "de3ae04c",
   "metadata": {},
   "source": [
    "After reading the dataset, we visualize it using its power/ intensity on a logarithmic scale."
   ]
  },
  {
   "cell_type": "code",
   "execution_count": 3,
   "id": "1fe1719c",
   "metadata": {},
   "outputs": [],
   "source": [
    "slc_intensity_dB = 20 * np.log10(np.abs(slc))"
   ]
  },
  {
   "cell_type": "markdown",
   "id": "5e0441ac",
   "metadata": {},
   "source": [
    "Visualize intensity image."
   ]
  },
  {
   "cell_type": "code",
   "execution_count": null,
   "id": "08437dcb",
   "metadata": {},
   "outputs": [
    {
     "data": {
      "text/plain": [
       "<matplotlib.colorbar.Colorbar at 0x7fdc1f0e9400>"
      ]
     },
     "execution_count": 4,
     "metadata": {},
     "output_type": "execute_result"
    }
   ],
   "source": [
    "fig, ax = plt.subplots(1, 1, figsize=(30,20))\n",
    "\n",
    "img = ax.imshow(\n",
    "    slc_intensity_dB,\n",
    "    origin=\"lower\",\n",
    "    vmin=80,\n",
    "    vmax=120,\n",
    "    cmap=\"Greys_r\",\n",
    "    aspect=\"equal\",\n",
    "    extent=(0,n_pixels,0,n_lines),\n",
    ")\n",
    "\n",
    "line_min = 13600\n",
    "line_max = 14700\n",
    "pixel_min = 7500\n",
    "pixel_max = 8050\n",
    "rect = patches.Rectangle((pixel_min, line_min), \n",
    "                         pixel_max-pixel_min,\n",
    "                         line_max-line_min,\n",
    "                         linewidth=1, \n",
    "                         edgecolor='r', \n",
    "                         facecolor='none',\n",
    "                        )\n",
    "ax.add_patch(rect)\n",
    "\n",
    "ax.set_ylabel(\"Lines\")\n",
    "ax.set_xlabel(\"Pixels\")\n",
    "ax.set_title(\"Original PALSAR Image\")\n",
    "\n",
    "divider = make_axes_locatable(ax)\n",
    "cax = divider.append_axes(\"right\", size=\"5%\", pad=0.05)\n",
    "\n",
    "plt.colorbar(img, cax=cax, label=\"Intensity in dB\")"
   ]
  },
  {
   "cell_type": "markdown",
   "id": "40e65a0e",
   "metadata": {},
   "source": [
    "The scene is quite large, and this visualization does not allow to see many details. Therefore, let's look at a subset of the data set. Specifically, we will look at the area around the Matsuyama Seaport and Aiport (highlighted in red in the figure above)."
   ]
  },
  {
   "cell_type": "code",
   "execution_count": null,
   "id": "7c8a74e5",
   "metadata": {},
   "outputs": [],
   "source": [
    "extent = (pixel_min, pixel_max, line_min, line_max)\n",
    "\n",
    "fig, ax = plt.subplots(1, 1, figsize=(30,20))\n",
    "\n",
    "img = ax.imshow(\n",
    "    slc_intensity_dB[line_min:line_max, pixel_min:pixel_max],\n",
    "    origin=\"lower\",\n",
    "    vmin=80,\n",
    "    vmax=120,\n",
    "    cmap=\"Greys_r\",\n",
    "    aspect=\"equal\",\n",
    "    extent=extent,\n",
    ")\n",
    "\n",
    "ax.set_ylabel(\"Lines\")\n",
    "ax.set_xlabel(\"Pixels\")\n",
    "ax.set_title(\"Matsuyama Harbour in Original PALSAR Image\")\n",
    "\n",
    "divider = make_axes_locatable(ax)\n",
    "cax = divider.append_axes(\"right\", size=\"5%\", pad=0.05)\n",
    "\n",
    "plt.colorbar(img, cax=cax, label=\"Intensity in dB\")"
   ]
  },
  {
   "cell_type": "markdown",
   "id": "06aaeb44",
   "metadata": {},
   "source": [
    "In this image, it can be seen that the sidelobes caused by the Point Spread Function (PSF) in range are quite strong. This effect is particularly strong in the densely urbanized area around the harbour due to the high concentration of strong, point-like scatterers in that region.\n",
    "\n",
    "To attenuate or even remove the sidelobes, we need to apply a filter in the frequency domain."
   ]
  },
  {
   "cell_type": "markdown",
   "id": "d3458a6e",
   "metadata": {},
   "source": [
    "# 3. Implement frequency based windowing"
   ]
  },
  {
   "cell_type": "markdown",
   "id": "21232caa",
   "metadata": {},
   "source": [
    "## 3.1 For each line, compute the Fourier transform with a size of 16384"
   ]
  },
  {
   "cell_type": "markdown",
   "id": "e9a64f47",
   "metadata": {},
   "source": [
    "Numpy's fft function offers the possibility to compute the FFT for all lines at once (`axis=1`). We use $n_\\text{FFT}=16384$ samples for the FFT---a power of 2---to make full use of the Radix2 algorithm."
   ]
  },
  {
   "cell_type": "code",
   "execution_count": null,
   "id": "6e9a212b",
   "metadata": {},
   "outputs": [],
   "source": [
    "n_fft = 16384\n",
    "slc_fft = np.fft.fftshift(np.fft.fft(slc, n=n_fft, axis=1), axes=1)"
   ]
  },
  {
   "cell_type": "markdown",
   "id": "b6645d00",
   "metadata": {},
   "source": [
    "Visualize spectrum of single line"
   ]
  },
  {
   "cell_type": "code",
   "execution_count": null,
   "id": "678430ab",
   "metadata": {},
   "outputs": [],
   "source": [
    "fig, ax = plt.subplots(1, 1, figsize=(10, 10))\n",
    "\n",
    "index_sample_line = 6789\n",
    "\n",
    "freq = np.linspace(-0.5, 0.5, n_fft)\n",
    "ax.plot(freq, 20*np.log10(np.abs(slc_fft[index_sample_line, :])))\n",
    "ax.grid(True)\n",
    "\n",
    "ax.set_xlabel(\"Normalized Frequency\")\n",
    "ax.set_ylabel(\"Intensity in dB\")\n",
    "ax.set_title(f\"Intensity Spectrum of Range Line {index_sample_line}\")\n",
    "\n",
    "plt.xticks(np.arange(-0.5, 0.6, 0.1));"
   ]
  },
  {
   "cell_type": "markdown",
   "id": "b486a048",
   "metadata": {},
   "source": [
    "It can be seen in this figure that spectrum of the sample line takes up almost the complete sampling bandwidth. This wide bandwidth allow for a high a resolution in the spatial domain (i.e., a narrow peak of the PSF), but also high sidelobes. Hence, reducing the bandwidth and will cause a lower resolution in the spatial domain and lower sidelobes. We are more than willing to tolerate the loss in the resolution, because in the original product the sidelobes are so high that making use of the high range resolution is not possible, anyway. "
   ]
  },
  {
   "cell_type": "markdown",
   "id": "8c3c134a",
   "metadata": {},
   "source": [
    "## 3.2 Apply the Hanning window to the central part of the frequency spectrum"
   ]
  },
  {
   "cell_type": "markdown",
   "id": "154e9e2f",
   "metadata": {},
   "source": [
    "The Hanning (or Hann) window is a popular choice for window functions. It is defined as\n",
    "\n",
    "$$\n",
    "w(n)_\\text{Hann} = 0.5 - 0.5\\cos\\bigg(\\frac{2\\pi n}{M}\\bigg)\\quad\\text{for}\\quad 0 \\leq n \\leq M-1 \\:,\n",
    "$$\n",
    "\n",
    "where $n$ is the sample index and $M$ is the number of samples in the signal (in our case, the number of samples used for the FFT).\n",
    "\n",
    "Conveniently, the Hanning-window is implemented in `scipy`. We set its to cover the central portion of the range spectrum."
   ]
  },
  {
   "cell_type": "code",
   "execution_count": null,
   "id": "ea3752c2",
   "metadata": {},
   "outputs": [],
   "source": [
    "n_hann = int(n_fft / 2)\n",
    "\n",
    "ind_hann_start = int(n_fft / 4)\n",
    "ind_hann_end = ind_hann_start + n_hann\n",
    "\n",
    "hann_window = np.zeros(n_fft)\n",
    "hann_window[ind_hann_start:ind_hann_end] = windows.hann(n_hann)"
   ]
  },
  {
   "cell_type": "markdown",
   "id": "bdae15ed",
   "metadata": {},
   "source": [
    "Plot Hann-window"
   ]
  },
  {
   "cell_type": "code",
   "execution_count": null,
   "id": "1b6ac3a2",
   "metadata": {},
   "outputs": [],
   "source": [
    "fig, ax = plt.subplots(1, 1, figsize=(10, 10))\n",
    "\n",
    "ax.plot(hann_window)\n",
    "ax.grid(True)\n",
    "\n",
    "ax.set_xlabel(\"Sample Index\")\n",
    "ax.set_ylabel(\"Value\")\n",
    "\n",
    "plt.xticks(np.arange(0, n_fft, 2000));"
   ]
  },
  {
   "cell_type": "markdown",
   "id": "1ff477ae",
   "metadata": {},
   "source": [
    "Apply Hann-window to the range spectra. We use Numpy-broadcasting to apply the window to all range spectra at once."
   ]
  },
  {
   "cell_type": "code",
   "execution_count": null,
   "id": "7c983e17",
   "metadata": {},
   "outputs": [],
   "source": [
    "slc_fft_filtered = slc_fft * hann_window[None, :]"
   ]
  },
  {
   "cell_type": "markdown",
   "id": "4a9de0d4",
   "metadata": {},
   "source": [
    "Visualize spectra after application of Hann-window"
   ]
  },
  {
   "cell_type": "markdown",
   "id": "cc487c94",
   "metadata": {},
   "source": [
    "Visualize single line of filtered spectrum"
   ]
  },
  {
   "cell_type": "code",
   "execution_count": null,
   "id": "8549d50d",
   "metadata": {},
   "outputs": [],
   "source": [
    "fig, ax = plt.subplots(1, 1, figsize=(10, 10))\n",
    "\n",
    "index_sample_line = 6789\n",
    "\n",
    "freq = np.linspace(-0.5, 0.5, n_fft)\n",
    "ax.plot(freq, 20*np.log10(np.abs(slc_fft_filtered[index_sample_line, :])))\n",
    "ax.grid(True)\n",
    "\n",
    "ax.set_xlabel(\"Normalized Frequency\")\n",
    "ax.set_ylabel(\"Intensity in dB\")\n",
    "ax.set_title(f\"Intensity Spectrum of Range Line {index_sample_line} after applying Hann-window\")\n",
    "\n",
    "plt.xticks(np.arange(-0.5, 0.6, 0.1));"
   ]
  },
  {
   "cell_type": "markdown",
   "id": "6d8e7dc5",
   "metadata": {},
   "source": [
    "Now the spectrum is a lot more narrow, which should significantly decrease the sidelobe levels in the spatial domain."
   ]
  },
  {
   "cell_type": "markdown",
   "id": "f346c515",
   "metadata": {},
   "source": [
    "## 3.3 Compute Inverse Fourier Transform"
   ]
  },
  {
   "cell_type": "markdown",
   "id": "f027f645",
   "metadata": {},
   "source": [
    "To verify that the sidelobes have indeed decreased, we transform the range spectra back to the original range lines in the spatial domain."
   ]
  },
  {
   "cell_type": "code",
   "execution_count": null,
   "id": "c57720c8",
   "metadata": {},
   "outputs": [],
   "source": [
    "slc_filtered = np.fft.ifft(slc_fft_filtered)\n",
    "slc_filtered = slc_filtered[:, :n_pixels] #Crop filtered image back to original dimensions"
   ]
  },
  {
   "cell_type": "markdown",
   "id": "90fce5f9",
   "metadata": {},
   "source": [
    "Visualize filtered image (Matsuyama Seaport is shown in red)."
   ]
  },
  {
   "cell_type": "code",
   "execution_count": null,
   "id": "c39358c8",
   "metadata": {},
   "outputs": [],
   "source": [
    "fig, ax = plt.subplots(1, 1, figsize=(30, 20))\n",
    "\n",
    "slc_filtered_dB = 20 * np.log10(np.abs(slc_filtered))\n",
    "\n",
    "img = ax.imshow(\n",
    "    slc_filtered_dB,\n",
    "    origin=\"lower\",\n",
    "    vmin=80,\n",
    "    vmax=120,\n",
    "    cmap=\"Greys_r\",\n",
    "    aspect=\"equal\",\n",
    "    extent=(0,n_pixels,0,n_lines),\n",
    ")\n",
    "\n",
    "rect = patches.Rectangle((pixel_min, line_min), \n",
    "                         pixel_max-pixel_min,\n",
    "                         line_max-line_min,\n",
    "                         linewidth=1, \n",
    "                         edgecolor='r', \n",
    "                         facecolor='none',\n",
    "                        )\n",
    "ax.add_patch(rect)\n",
    "\n",
    "ax.set_ylabel(\"Lines\")\n",
    "ax.set_xlabel(\"Pixels\")\n",
    "ax.set_title(\"PALSAR Image after Applying Hamming-Window\")\n",
    "\n",
    "divider = make_axes_locatable(ax)\n",
    "cax = divider.append_axes(\"right\", size=\"5%\", pad=0.05)\n",
    "\n",
    "plt.colorbar(img, cax=cax, label=\"Intensity in dB\")"
   ]
  },
  {
   "cell_type": "markdown",
   "id": "f995feba",
   "metadata": {},
   "source": [
    "# 4. Compare Original and Filtered Image above Matsuyama Airport"
   ]
  },
  {
   "cell_type": "markdown",
   "id": "15c12920",
   "metadata": {},
   "source": [
    "Let's compare the region around Matsuyama Seaport before and after application of the Hanning-Window. "
   ]
  },
  {
   "cell_type": "code",
   "execution_count": null,
   "id": "751ccc45",
   "metadata": {},
   "outputs": [],
   "source": [
    "fig, axes = plt.subplots(1, 2, figsize=(30, 20))\n",
    "\n",
    "extent = (pixel_min, pixel_max, line_min, line_max)\n",
    "\n",
    "ax = axes[0]\n",
    "img = ax.imshow(\n",
    "    slc_intensity_dB[line_min:line_max, pixel_min:pixel_max],\n",
    "    origin=\"lower\",\n",
    "    vmin=80,\n",
    "    vmax=120,\n",
    "    cmap=\"Greys_r\",\n",
    "    aspect=\"equal\",\n",
    "    extent=extent,\n",
    ")\n",
    "\n",
    "ax.set_ylabel(\"Lines\")\n",
    "ax.set_xlabel(\"Pixels\")\n",
    "ax.set_title(\"Original\")\n",
    "\n",
    "divider = make_axes_locatable(ax)\n",
    "cax = divider.append_axes(\"right\", size=\"5%\", pad=0.05)\n",
    "\n",
    "plt.colorbar(img, cax=cax, label=\"Intensity in dB\")\n",
    "\n",
    "ax = axes[1]\n",
    "img = ax.imshow(\n",
    "    slc_filtered_dB[line_min:line_max, pixel_min:pixel_max],\n",
    "    origin=\"lower\",\n",
    "    vmin=80,\n",
    "    vmax=120,\n",
    "    cmap=\"Greys_r\",\n",
    "    aspect=\"equal\",\n",
    "    extent=extent,\n",
    ")\n",
    "\n",
    "ax.set_ylabel(\"Lines\")\n",
    "ax.set_xlabel(\"Pixels\")\n",
    "ax.set_title(\"Bandlimited with Hann-Window\")\n",
    "\n",
    "divider = make_axes_locatable(ax)\n",
    "cax = divider.append_axes(\"right\", size=\"5%\", pad=0.05)\n",
    "\n",
    "plt.colorbar(img, cax=cax, label=\"Intensity in dB\")\n",
    "\n",
    "if 0:\n",
    "    savedir = Path(\"../results\") \n",
    "    Path(savedir).mkdir(exist_ok=True)\n",
    "  \n",
    "    file_name = \"palsar_hanning_window_comparison.png\"\n",
    "    savepath = savedir / file_name\n",
    "    plt.savefig(savepath, bbox_inches=\"tight\")"
   ]
  },
  {
   "cell_type": "markdown",
   "id": "f84a8073",
   "metadata": {},
   "source": [
    "It can be seen that both the noise level and the PSF sidelobe levels have decreased due to the bandwidth limitation caused by the Hanning-window. Thus, the product is now in much better shape for further processing."
   ]
  }
 ],
 "metadata": {
  "jupytext": {
   "formats": "ipynb,py:percent"
  },
  "kernelspec": {
   "display_name": "Python 3 (ipykernel)",
   "language": "python",
   "name": "python3"
  },
  "language_info": {
   "codemirror_mode": {
    "name": "ipython",
    "version": 3
   },
   "file_extension": ".py",
   "mimetype": "text/x-python",
   "name": "python",
   "nbconvert_exporter": "python",
   "pygments_lexer": "ipython3",
   "version": "3.8.8"
  }
 },
 "nbformat": 4,
 "nbformat_minor": 5
}
